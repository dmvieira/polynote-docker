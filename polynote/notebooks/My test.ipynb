{
  "metadata" : {
    "config" : {
      "dependencies" : {

      },
      "exclusions" : [
      ],
      "repositories" : [
      ],
      "sparkConfig" : {
        "spark.home" : "local[*]"
      }
    }
  },
  "nbformat" : 4,
  "nbformat_minor" : 0,
  "cells" : [
    {
      "cell_type" : "markdown",
      "execution_count" : 0,
      "metadata" : {
        "language" : "text"
      },
      "language" : "text",
      "source" : [
        "# My test\n",
        "\n",
        "This is a text cell. Start editing!"
      ],
      "outputs" : [
      ]
    },
    {
      "cell_type" : "code",
      "execution_count" : 1,
      "metadata" : {
        "cell.metadata.exec_info" : {
          "startTs" : 1572038282817,
          "endTs" : 1572038283143
        },
        "language" : "scala"
      },
      "language" : "scala",
      "source" : [
        "val scala_val = 3"
      ],
      "outputs" : [
      ]
    },
    {
      "cell_type" : "code",
      "execution_count" : 2,
      "metadata" : {
        "cell.metadata.exec_info" : {
          "startTs" : 1572038283367,
          "endTs" : 1572038283500
        },
        "language" : "python"
      },
      "language" : "python",
      "source" : [
        "python_var = 4"
      ],
      "outputs" : [
      ]
    },
    {
      "cell_type" : "code",
      "execution_count" : 3,
      "metadata" : {
        "cell.metadata.exec_info" : {
          "startTs" : 1572038390008,
          "endTs" : 1572038391764
        },
        "language" : "scala"
      },
      "language" : "scala",
      "source" : [
        "val emp = Seq((101, \"Amy\", Some(2)))\n",
        "val employee = spark.createDataFrame(emp).toDF(\n",
        "    \"employeeId\",\"employeeName\",\"managerId\"\n",
        ")",
        "employee.registerTempTable(\"employed\")"
      ],
      "outputs" : [
      ]
    },
    {
      "cell_type" : "code",
      "execution_count" : 4,
      "metadata" : {
        "cell.metadata.exec_info" : {
          "startTs" : 1572038297686,
          "endTs" : 1572038297881
        },
        "language" : "python"
      },
      "language" : "python",
      "source" : [
        "print(scala_val)"
      ],
      "outputs" : [
        {
          "name" : "stdout",
          "text" : [
            "3",
            "\n"
          ],
          "output_type" : "stream"
        }
      ]
    },
    {
      "cell_type" : "code",
      "execution_count" : 5,
      "metadata" : {
        "cell.metadata.exec_info" : {
          "startTs" : 1572038312543,
          "endTs" : 1572038312754
        },
        "language" : "scala"
      },
      "language" : "scala",
      "source" : [
        "println(python_var)"
      ],
      "outputs" : [
        {
          "name" : "stdout",
          "text" : [
            "4",
            "\n"
          ],
          "output_type" : "stream"
        }
      ]
    },
    {
      "cell_type" : "code",
      "execution_count" : 6,
      "metadata" : {
        "cell.metadata.exec_info" : {
          "startTs" : 1572038367051,
          "endTs" : 1572038367248
        },
        "language" : "python"
      },
      "language" : "python",
      "source" : [
        "print(employee)"
      ],
      "outputs" : [
        {
          "name" : "stdout",
          "text" : [
            "[employeeId: int, employeeName: string ... 1 more field]",
            "\n"
          ],
          "output_type" : "stream"
        }
      ]
    },
    {
      "cell_type" : "code",
      "execution_count" : 7,
      "metadata" : {
        "cell.metadata.exec_info" : {
          "startTs" : 1572038482780,
          "endTs" : 1572038483155
        },
        "language" : "sql"
      },
      "language" : "sql",
      "source" : [
        "select employeeId from employed"
      ],
      "outputs" : [
        {
          "execution_count" : 7,
          "data" : {
            "text/plain" : [
              "[employeeId: int]"
            ]
          },
          "metadata" : {
            "name" : "Out",
            "type" : "DataFrame"
          },
          "output_type" : "execute_result"
        }
      ]
    }
  ]
}
